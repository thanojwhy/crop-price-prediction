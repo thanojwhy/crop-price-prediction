{
 "cells": [
  {
   "cell_type": "code",
   "execution_count": 8,
   "metadata": {},
   "outputs": [],
   "source": [
    "import numpy as np\n",
    "import pandas as pd"
   ]
  },
  {
   "cell_type": "code",
   "execution_count": 2,
   "metadata": {},
   "outputs": [
    {
     "data": {
      "text/html": [
       "<div>\n",
       "<style scoped>\n",
       "    .dataframe tbody tr th:only-of-type {\n",
       "        vertical-align: middle;\n",
       "    }\n",
       "\n",
       "    .dataframe tbody tr th {\n",
       "        vertical-align: top;\n",
       "    }\n",
       "\n",
       "    .dataframe thead th {\n",
       "        text-align: right;\n",
       "    }\n",
       "</style>\n",
       "<table border=\"1\" class=\"dataframe\">\n",
       "  <thead>\n",
       "    <tr style=\"text-align: right;\">\n",
       "      <th></th>\n",
       "      <th>Unnamed: 0</th>\n",
       "      <th>State</th>\n",
       "      <th>District</th>\n",
       "      <th>Market</th>\n",
       "      <th>Commodity</th>\n",
       "      <th>Variety</th>\n",
       "      <th>Grade</th>\n",
       "      <th>Arrival_Date</th>\n",
       "      <th>Min Price</th>\n",
       "      <th>Max Price</th>\n",
       "      <th>Modal Price</th>\n",
       "    </tr>\n",
       "  </thead>\n",
       "  <tbody>\n",
       "    <tr>\n",
       "      <th>0</th>\n",
       "      <td>0</td>\n",
       "      <td>Gujarat</td>\n",
       "      <td>Amreli</td>\n",
       "      <td>Damnagar</td>\n",
       "      <td>Bhindi(Ladies Finger)</td>\n",
       "      <td>Bhindi</td>\n",
       "      <td>FAQ</td>\n",
       "      <td>27-07-2023</td>\n",
       "      <td>41.0</td>\n",
       "      <td>45.0</td>\n",
       "      <td>43.5</td>\n",
       "    </tr>\n",
       "    <tr>\n",
       "      <th>1</th>\n",
       "      <td>1</td>\n",
       "      <td>Gujarat</td>\n",
       "      <td>Amreli</td>\n",
       "      <td>Damnagar</td>\n",
       "      <td>Brinjal</td>\n",
       "      <td>Other</td>\n",
       "      <td>FAQ</td>\n",
       "      <td>27-07-2023</td>\n",
       "      <td>22.0</td>\n",
       "      <td>30.0</td>\n",
       "      <td>24.5</td>\n",
       "    </tr>\n",
       "    <tr>\n",
       "      <th>2</th>\n",
       "      <td>2</td>\n",
       "      <td>Gujarat</td>\n",
       "      <td>Amreli</td>\n",
       "      <td>Damnagar</td>\n",
       "      <td>Cabbage</td>\n",
       "      <td>Cabbage</td>\n",
       "      <td>FAQ</td>\n",
       "      <td>27-07-2023</td>\n",
       "      <td>23.5</td>\n",
       "      <td>30.0</td>\n",
       "      <td>27.0</td>\n",
       "    </tr>\n",
       "    <tr>\n",
       "      <th>3</th>\n",
       "      <td>3</td>\n",
       "      <td>Gujarat</td>\n",
       "      <td>Amreli</td>\n",
       "      <td>Damnagar</td>\n",
       "      <td>Cauliflower</td>\n",
       "      <td>Cauliflower</td>\n",
       "      <td>FAQ</td>\n",
       "      <td>27-07-2023</td>\n",
       "      <td>70.0</td>\n",
       "      <td>75.0</td>\n",
       "      <td>72.5</td>\n",
       "    </tr>\n",
       "    <tr>\n",
       "      <th>4</th>\n",
       "      <td>4</td>\n",
       "      <td>Gujarat</td>\n",
       "      <td>Amreli</td>\n",
       "      <td>Damnagar</td>\n",
       "      <td>Coriander(Leaves)</td>\n",
       "      <td>Coriander</td>\n",
       "      <td>FAQ</td>\n",
       "      <td>27-07-2023</td>\n",
       "      <td>84.0</td>\n",
       "      <td>90.0</td>\n",
       "      <td>88.5</td>\n",
       "    </tr>\n",
       "  </tbody>\n",
       "</table>\n",
       "</div>"
      ],
      "text/plain": [
       "   Unnamed: 0    State District    Market              Commodity      Variety  \\\n",
       "0           0  Gujarat   Amreli  Damnagar  Bhindi(Ladies Finger)       Bhindi   \n",
       "1           1  Gujarat   Amreli  Damnagar                Brinjal        Other   \n",
       "2           2  Gujarat   Amreli  Damnagar                Cabbage      Cabbage   \n",
       "3           3  Gujarat   Amreli  Damnagar            Cauliflower  Cauliflower   \n",
       "4           4  Gujarat   Amreli  Damnagar      Coriander(Leaves)    Coriander   \n",
       "\n",
       "  Grade Arrival_Date  Min Price  Max Price  Modal Price  \n",
       "0   FAQ   27-07-2023       41.0       45.0         43.5  \n",
       "1   FAQ   27-07-2023       22.0       30.0         24.5  \n",
       "2   FAQ   27-07-2023       23.5       30.0         27.0  \n",
       "3   FAQ   27-07-2023       70.0       75.0         72.5  \n",
       "4   FAQ   27-07-2023       84.0       90.0         88.5  "
      ]
     },
     "execution_count": 2,
     "metadata": {},
     "output_type": "execute_result"
    }
   ],
   "source": [
    "df=pd.read_csv(\"commodities.csv\")\n",
    "df.head()"
   ]
  },
  {
   "cell_type": "code",
   "execution_count": 3,
   "metadata": {},
   "outputs": [
    {
     "data": {
      "text/plain": [
       "Index(['Unnamed: 0', 'State', 'District', 'Market', 'Commodity', 'Variety',\n",
       "       'Grade', 'Arrival_Date', 'Min Price', 'Max Price', 'Modal Price'],\n",
       "      dtype='object')"
      ]
     },
     "execution_count": 3,
     "metadata": {},
     "output_type": "execute_result"
    }
   ],
   "source": [
    "df.columns"
   ]
  },
  {
   "cell_type": "code",
   "execution_count": 4,
   "metadata": {},
   "outputs": [
    {
     "data": {
      "text/plain": [
       "(23093, 11)"
      ]
     },
     "execution_count": 4,
     "metadata": {},
     "output_type": "execute_result"
    }
   ],
   "source": [
    "df.shape"
   ]
  },
  {
   "cell_type": "code",
   "execution_count": 5,
   "metadata": {},
   "outputs": [
    {
     "data": {
      "text/plain": [
       "Unnamed: 0      0\n",
       "State           0\n",
       "District        0\n",
       "Market          0\n",
       "Commodity       0\n",
       "Variety         0\n",
       "Grade           0\n",
       "Arrival_Date    0\n",
       "Min Price       0\n",
       "Max Price       0\n",
       "Modal Price     0\n",
       "dtype: int64"
      ]
     },
     "execution_count": 5,
     "metadata": {},
     "output_type": "execute_result"
    }
   ],
   "source": [
    "df.isnull().sum()"
   ]
  },
  {
   "cell_type": "code",
   "execution_count": 6,
   "metadata": {},
   "outputs": [
    {
     "data": {
      "text/plain": [
       "Commodity\n",
       "Potato                      1205\n",
       "Onion                       1134\n",
       "Brinjal                     1033\n",
       "Green Chilli                 931\n",
       "Bhindi(Ladies Finger)        860\n",
       "                            ... \n",
       "Alasande Gram                  1\n",
       "Almond(Badam)                  1\n",
       "Cinamon(Dalchini)              1\n",
       "Broomstick(Flower Broom)       1\n",
       "She Buffalo                    1\n",
       "Name: count, Length: 234, dtype: int64"
      ]
     },
     "execution_count": 6,
     "metadata": {},
     "output_type": "execute_result"
    }
   ],
   "source": [
    "df['Commodity'].value_counts()"
   ]
  },
  {
   "cell_type": "code",
   "execution_count": 7,
   "metadata": {},
   "outputs": [
    {
     "data": {
      "text/plain": [
       "array(['27-07-2023', '28-07-2023', '29-07-2023', '30-07-2023',\n",
       "       '31-07-2023', '01-08-2023', '02-08-2023'], dtype=object)"
      ]
     },
     "execution_count": 7,
     "metadata": {},
     "output_type": "execute_result"
    }
   ],
   "source": [
    "df['Arrival_Date'].unique()"
   ]
  },
  {
   "cell_type": "code",
   "execution_count": 4,
   "metadata": {},
   "outputs": [
    {
     "data": {
      "text/html": [
       "<div>\n",
       "<style scoped>\n",
       "    .dataframe tbody tr th:only-of-type {\n",
       "        vertical-align: middle;\n",
       "    }\n",
       "\n",
       "    .dataframe tbody tr th {\n",
       "        vertical-align: top;\n",
       "    }\n",
       "\n",
       "    .dataframe thead th {\n",
       "        text-align: right;\n",
       "    }\n",
       "</style>\n",
       "<table border=\"1\" class=\"dataframe\">\n",
       "  <thead>\n",
       "    <tr style=\"text-align: right;\">\n",
       "      <th></th>\n",
       "      <th>State</th>\n",
       "      <th>District</th>\n",
       "      <th>Market</th>\n",
       "      <th>Commodity</th>\n",
       "      <th>Variety</th>\n",
       "      <th>Grade</th>\n",
       "      <th>Arrival_Date</th>\n",
       "      <th>Min_x0020_Price</th>\n",
       "      <th>Max_x0020_Price</th>\n",
       "      <th>Modal_x0020_Price</th>\n",
       "    </tr>\n",
       "  </thead>\n",
       "  <tbody>\n",
       "    <tr>\n",
       "      <th>0</th>\n",
       "      <td>Andhra Pradesh</td>\n",
       "      <td>Chittor</td>\n",
       "      <td>Kalikiri</td>\n",
       "      <td>Tomato</td>\n",
       "      <td>Hybrid</td>\n",
       "      <td>FAQ</td>\n",
       "      <td>18/03/2025</td>\n",
       "      <td>900.0</td>\n",
       "      <td>1200.0</td>\n",
       "      <td>1060.0</td>\n",
       "    </tr>\n",
       "    <tr>\n",
       "      <th>1</th>\n",
       "      <td>Andhra Pradesh</td>\n",
       "      <td>Chittor</td>\n",
       "      <td>Palamaner</td>\n",
       "      <td>Brinjal</td>\n",
       "      <td>Brinjal</td>\n",
       "      <td>FAQ</td>\n",
       "      <td>18/03/2025</td>\n",
       "      <td>1500.0</td>\n",
       "      <td>2500.0</td>\n",
       "      <td>2000.0</td>\n",
       "    </tr>\n",
       "    <tr>\n",
       "      <th>2</th>\n",
       "      <td>Andhra Pradesh</td>\n",
       "      <td>Guntur</td>\n",
       "      <td>Tenali</td>\n",
       "      <td>Black Gram (Urd Beans)(Whole)</td>\n",
       "      <td>Black Gram (Whole)</td>\n",
       "      <td>Non-FAQ</td>\n",
       "      <td>18/03/2025</td>\n",
       "      <td>7400.0</td>\n",
       "      <td>7600.0</td>\n",
       "      <td>7500.0</td>\n",
       "    </tr>\n",
       "    <tr>\n",
       "      <th>3</th>\n",
       "      <td>Andhra Pradesh</td>\n",
       "      <td>Krishna</td>\n",
       "      <td>Mylavaram</td>\n",
       "      <td>Maize</td>\n",
       "      <td>Deshi Red</td>\n",
       "      <td>Non-FAQ</td>\n",
       "      <td>18/03/2025</td>\n",
       "      <td>1700.0</td>\n",
       "      <td>2200.0</td>\n",
       "      <td>1850.0</td>\n",
       "    </tr>\n",
       "    <tr>\n",
       "      <th>4</th>\n",
       "      <td>Andhra Pradesh</td>\n",
       "      <td>Krishna</td>\n",
       "      <td>Tiruvuru</td>\n",
       "      <td>Paddy(Dhan)(Common)</td>\n",
       "      <td>Sona</td>\n",
       "      <td>FAQ</td>\n",
       "      <td>18/03/2025</td>\n",
       "      <td>2450.0</td>\n",
       "      <td>2650.0</td>\n",
       "      <td>2550.0</td>\n",
       "    </tr>\n",
       "  </tbody>\n",
       "</table>\n",
       "</div>"
      ],
      "text/plain": [
       "            State District     Market                      Commodity  \\\n",
       "0  Andhra Pradesh  Chittor   Kalikiri                         Tomato   \n",
       "1  Andhra Pradesh  Chittor  Palamaner                        Brinjal   \n",
       "2  Andhra Pradesh   Guntur     Tenali  Black Gram (Urd Beans)(Whole)   \n",
       "3  Andhra Pradesh  Krishna  Mylavaram                          Maize   \n",
       "4  Andhra Pradesh  Krishna   Tiruvuru            Paddy(Dhan)(Common)   \n",
       "\n",
       "              Variety    Grade Arrival_Date  Min_x0020_Price  Max_x0020_Price  \\\n",
       "0              Hybrid      FAQ   18/03/2025            900.0           1200.0   \n",
       "1             Brinjal      FAQ   18/03/2025           1500.0           2500.0   \n",
       "2  Black Gram (Whole)  Non-FAQ   18/03/2025           7400.0           7600.0   \n",
       "3           Deshi Red  Non-FAQ   18/03/2025           1700.0           2200.0   \n",
       "4                Sona      FAQ   18/03/2025           2450.0           2650.0   \n",
       "\n",
       "   Modal_x0020_Price  \n",
       "0             1060.0  \n",
       "1             2000.0  \n",
       "2             7500.0  \n",
       "3             1850.0  \n",
       "4             2550.0  "
      ]
     },
     "execution_count": 4,
     "metadata": {},
     "output_type": "execute_result"
    }
   ],
   "source": [
    "d=pd.read_csv(\"prices.csv\")\n",
    "d.head()"
   ]
  },
  {
   "cell_type": "code",
   "execution_count": 5,
   "metadata": {},
   "outputs": [
    {
     "data": {
      "text/plain": [
       "State                 object\n",
       "District              object\n",
       "Market                object\n",
       "Commodity             object\n",
       "Variety               object\n",
       "Grade                 object\n",
       "Arrival_Date          object\n",
       "Min_x0020_Price      float64\n",
       "Max_x0020_Price      float64\n",
       "Modal_x0020_Price    float64\n",
       "dtype: object"
      ]
     },
     "execution_count": 5,
     "metadata": {},
     "output_type": "execute_result"
    }
   ],
   "source": [
    "d.dtypes"
   ]
  },
  {
   "cell_type": "code",
   "execution_count": 6,
   "metadata": {},
   "outputs": [
    {
     "data": {
      "text/plain": [
       "State                0\n",
       "District             0\n",
       "Market               0\n",
       "Commodity            0\n",
       "Variety              0\n",
       "Grade                0\n",
       "Arrival_Date         0\n",
       "Min_x0020_Price      0\n",
       "Max_x0020_Price      0\n",
       "Modal_x0020_Price    0\n",
       "dtype: int64"
      ]
     },
     "execution_count": 6,
     "metadata": {},
     "output_type": "execute_result"
    }
   ],
   "source": [
    "d.isnull().sum()"
   ]
  },
  {
   "cell_type": "code",
   "execution_count": 7,
   "metadata": {},
   "outputs": [],
   "source": [
    "columns=['State','District','Market','Commodity','Variety','Grade','Arrival_Date','Min_Price','Max_Price','Modal_Price']\n",
    "d.columns=columns"
   ]
  },
  {
   "cell_type": "code",
   "execution_count": 8,
   "metadata": {},
   "outputs": [
    {
     "data": {
      "text/plain": [
       "Index(['State', 'District', 'Market', 'Commodity', 'Variety', 'Grade',\n",
       "       'Arrival_Date', 'Min_Price', 'Max_Price', 'Modal_Price'],\n",
       "      dtype='object')"
      ]
     },
     "execution_count": 8,
     "metadata": {},
     "output_type": "execute_result"
    }
   ],
   "source": [
    "d.columns"
   ]
  },
  {
   "cell_type": "code",
   "execution_count": 9,
   "metadata": {},
   "outputs": [],
   "source": [
    "d.to_csv(\"prices.csv\")"
   ]
  },
  {
   "cell_type": "code",
   "execution_count": 9,
   "metadata": {},
   "outputs": [],
   "source": [
    "data=pd.read_csv(\"potato.csv\")"
   ]
  },
  {
   "cell_type": "code",
   "execution_count": 10,
   "metadata": {},
   "outputs": [
    {
     "data": {
      "text/html": [
       "<div>\n",
       "<style scoped>\n",
       "    .dataframe tbody tr th:only-of-type {\n",
       "        vertical-align: middle;\n",
       "    }\n",
       "\n",
       "    .dataframe tbody tr th {\n",
       "        vertical-align: top;\n",
       "    }\n",
       "\n",
       "    .dataframe thead th {\n",
       "        text-align: right;\n",
       "    }\n",
       "</style>\n",
       "<table border=\"1\" class=\"dataframe\">\n",
       "  <thead>\n",
       "    <tr style=\"text-align: right;\">\n",
       "      <th></th>\n",
       "      <th>Date</th>\n",
       "      <th>Centre_Name</th>\n",
       "      <th>Commodity_Name</th>\n",
       "      <th>Price</th>\n",
       "    </tr>\n",
       "  </thead>\n",
       "  <tbody>\n",
       "    <tr>\n",
       "      <th>0</th>\n",
       "      <td>25-11-1997</td>\n",
       "      <td>AGARTALA</td>\n",
       "      <td>Potato</td>\n",
       "      <td>4.5</td>\n",
       "    </tr>\n",
       "    <tr>\n",
       "      <th>1</th>\n",
       "      <td>26-11-1997</td>\n",
       "      <td>AGARTALA</td>\n",
       "      <td>Potato</td>\n",
       "      <td>4.5</td>\n",
       "    </tr>\n",
       "    <tr>\n",
       "      <th>2</th>\n",
       "      <td>27-11-1997</td>\n",
       "      <td>AGARTALA</td>\n",
       "      <td>Potato</td>\n",
       "      <td>4.5</td>\n",
       "    </tr>\n",
       "    <tr>\n",
       "      <th>3</th>\n",
       "      <td>28-11-1997</td>\n",
       "      <td>AGARTALA</td>\n",
       "      <td>Potato</td>\n",
       "      <td>4.5</td>\n",
       "    </tr>\n",
       "    <tr>\n",
       "      <th>4</th>\n",
       "      <td>01-12-1997</td>\n",
       "      <td>AGARTALA</td>\n",
       "      <td>Potato</td>\n",
       "      <td>4.5</td>\n",
       "    </tr>\n",
       "  </tbody>\n",
       "</table>\n",
       "</div>"
      ],
      "text/plain": [
       "         Date Centre_Name Commodity_Name  Price\n",
       "0  25-11-1997    AGARTALA         Potato    4.5\n",
       "1  26-11-1997    AGARTALA         Potato    4.5\n",
       "2  27-11-1997    AGARTALA         Potato    4.5\n",
       "3  28-11-1997    AGARTALA         Potato    4.5\n",
       "4  01-12-1997    AGARTALA         Potato    4.5"
      ]
     },
     "execution_count": 10,
     "metadata": {},
     "output_type": "execute_result"
    }
   ],
   "source": [
    "data.head()"
   ]
  },
  {
   "cell_type": "code",
   "execution_count": 12,
   "metadata": {},
   "outputs": [
    {
     "data": {
      "text/plain": [
       "(127911, 4)"
      ]
     },
     "execution_count": 12,
     "metadata": {},
     "output_type": "execute_result"
    }
   ],
   "source": [
    "data.shape"
   ]
  },
  {
   "cell_type": "code",
   "execution_count": 11,
   "metadata": {},
   "outputs": [
    {
     "data": {
      "text/plain": [
       "Date                  0\n",
       "Centre_Name           0\n",
       "Commodity_Name        0\n",
       "Price             20554\n",
       "dtype: int64"
      ]
     },
     "execution_count": 11,
     "metadata": {},
     "output_type": "execute_result"
    }
   ],
   "source": [
    "data.isnull().sum()"
   ]
  },
  {
   "cell_type": "code",
   "execution_count": 17,
   "metadata": {},
   "outputs": [],
   "source": [
    "data.dropna(inplace=True)"
   ]
  },
  {
   "cell_type": "code",
   "execution_count": 18,
   "metadata": {},
   "outputs": [
    {
     "data": {
      "text/plain": [
       "Date              0\n",
       "Centre_Name       0\n",
       "Commodity_Name    0\n",
       "Price             0\n",
       "dtype: int64"
      ]
     },
     "execution_count": 18,
     "metadata": {},
     "output_type": "execute_result"
    }
   ],
   "source": [
    "data.isnull().sum()"
   ]
  },
  {
   "cell_type": "code",
   "execution_count": 20,
   "metadata": {},
   "outputs": [],
   "source": [
    "data.to_csv('potato.csv')"
   ]
  },
  {
   "cell_type": "code",
   "execution_count": null,
   "metadata": {},
   "outputs": [],
   "source": []
  }
 ],
 "metadata": {
  "kernelspec": {
   "display_name": "Python 3",
   "language": "python",
   "name": "python3"
  },
  "language_info": {
   "codemirror_mode": {
    "name": "ipython",
    "version": 3
   },
   "file_extension": ".py",
   "mimetype": "text/x-python",
   "name": "python",
   "nbconvert_exporter": "python",
   "pygments_lexer": "ipython3",
   "version": "3.9.0"
  }
 },
 "nbformat": 4,
 "nbformat_minor": 2
}
