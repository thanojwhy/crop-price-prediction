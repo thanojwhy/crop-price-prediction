{
 "cells": [
  {
   "cell_type": "code",
   "execution_count": 44,
   "metadata": {},
   "outputs": [],
   "source": [
    "import pandas as pd\n",
    "import numpy as np"
   ]
  },
  {
   "cell_type": "code",
   "execution_count": 3,
   "metadata": {},
   "outputs": [
    {
     "data": {
      "text/html": [
       "<div>\n",
       "<style scoped>\n",
       "    .dataframe tbody tr th:only-of-type {\n",
       "        vertical-align: middle;\n",
       "    }\n",
       "\n",
       "    .dataframe tbody tr th {\n",
       "        vertical-align: top;\n",
       "    }\n",
       "\n",
       "    .dataframe thead th {\n",
       "        text-align: right;\n",
       "    }\n",
       "</style>\n",
       "<table border=\"1\" class=\"dataframe\">\n",
       "  <thead>\n",
       "    <tr style=\"text-align: right;\">\n",
       "      <th></th>\n",
       "      <th>Crop</th>\n",
       "      <th>Crop_Year</th>\n",
       "      <th>Season</th>\n",
       "      <th>State</th>\n",
       "      <th>Area</th>\n",
       "      <th>Production</th>\n",
       "      <th>Annual_Rainfall</th>\n",
       "      <th>Fertilizer</th>\n",
       "      <th>Pesticide</th>\n",
       "      <th>Yield</th>\n",
       "    </tr>\n",
       "  </thead>\n",
       "  <tbody>\n",
       "    <tr>\n",
       "      <th>0</th>\n",
       "      <td>Arecanut</td>\n",
       "      <td>1997</td>\n",
       "      <td>Whole Year</td>\n",
       "      <td>Assam</td>\n",
       "      <td>73814.0</td>\n",
       "      <td>56708</td>\n",
       "      <td>2051.4</td>\n",
       "      <td>7024878.38</td>\n",
       "      <td>22882.34</td>\n",
       "      <td>0.796087</td>\n",
       "    </tr>\n",
       "    <tr>\n",
       "      <th>1</th>\n",
       "      <td>Arhar/Tur</td>\n",
       "      <td>1997</td>\n",
       "      <td>Kharif</td>\n",
       "      <td>Assam</td>\n",
       "      <td>6637.0</td>\n",
       "      <td>4685</td>\n",
       "      <td>2051.4</td>\n",
       "      <td>631643.29</td>\n",
       "      <td>2057.47</td>\n",
       "      <td>0.710435</td>\n",
       "    </tr>\n",
       "    <tr>\n",
       "      <th>2</th>\n",
       "      <td>Castor seed</td>\n",
       "      <td>1997</td>\n",
       "      <td>Kharif</td>\n",
       "      <td>Assam</td>\n",
       "      <td>796.0</td>\n",
       "      <td>22</td>\n",
       "      <td>2051.4</td>\n",
       "      <td>75755.32</td>\n",
       "      <td>246.76</td>\n",
       "      <td>0.238333</td>\n",
       "    </tr>\n",
       "    <tr>\n",
       "      <th>3</th>\n",
       "      <td>Coconut</td>\n",
       "      <td>1997</td>\n",
       "      <td>Whole Year</td>\n",
       "      <td>Assam</td>\n",
       "      <td>19656.0</td>\n",
       "      <td>126905000</td>\n",
       "      <td>2051.4</td>\n",
       "      <td>1870661.52</td>\n",
       "      <td>6093.36</td>\n",
       "      <td>5238.051739</td>\n",
       "    </tr>\n",
       "    <tr>\n",
       "      <th>4</th>\n",
       "      <td>Cotton(lint)</td>\n",
       "      <td>1997</td>\n",
       "      <td>Kharif</td>\n",
       "      <td>Assam</td>\n",
       "      <td>1739.0</td>\n",
       "      <td>794</td>\n",
       "      <td>2051.4</td>\n",
       "      <td>165500.63</td>\n",
       "      <td>539.09</td>\n",
       "      <td>0.420909</td>\n",
       "    </tr>\n",
       "  </tbody>\n",
       "</table>\n",
       "</div>"
      ],
      "text/plain": [
       "           Crop  Crop_Year       Season  State     Area  Production  \\\n",
       "0      Arecanut       1997  Whole Year   Assam  73814.0       56708   \n",
       "1     Arhar/Tur       1997  Kharif       Assam   6637.0        4685   \n",
       "2   Castor seed       1997  Kharif       Assam    796.0          22   \n",
       "3      Coconut        1997  Whole Year   Assam  19656.0   126905000   \n",
       "4  Cotton(lint)       1997  Kharif       Assam   1739.0         794   \n",
       "\n",
       "   Annual_Rainfall  Fertilizer  Pesticide        Yield  \n",
       "0           2051.4  7024878.38   22882.34     0.796087  \n",
       "1           2051.4   631643.29    2057.47     0.710435  \n",
       "2           2051.4    75755.32     246.76     0.238333  \n",
       "3           2051.4  1870661.52    6093.36  5238.051739  \n",
       "4           2051.4   165500.63     539.09     0.420909  "
      ]
     },
     "execution_count": 3,
     "metadata": {},
     "output_type": "execute_result"
    }
   ],
   "source": [
    "df=pd.read_csv(\"Datasets/crop_yield.csv\")\n",
    "df.head()"
   ]
  },
  {
   "cell_type": "code",
   "execution_count": 4,
   "metadata": {},
   "outputs": [
    {
     "data": {
      "text/plain": [
       "(19689, 10)"
      ]
     },
     "execution_count": 4,
     "metadata": {},
     "output_type": "execute_result"
    }
   ],
   "source": [
    "df.shape"
   ]
  },
  {
   "cell_type": "code",
   "execution_count": 5,
   "metadata": {},
   "outputs": [
    {
     "data": {
      "text/plain": [
       "array([1997, 1998, 1999, 2000, 2001, 2002, 2003, 2004, 2005, 2006, 2007,\n",
       "       2008, 2009, 2010, 2011, 2012, 2013, 2014, 2015, 2016, 2017, 2018,\n",
       "       2019, 2020], dtype=int64)"
      ]
     },
     "execution_count": 5,
     "metadata": {},
     "output_type": "execute_result"
    }
   ],
   "source": [
    "df['Crop_Year'].unique()"
   ]
  },
  {
   "cell_type": "code",
   "execution_count": 6,
   "metadata": {},
   "outputs": [
    {
     "data": {
      "text/html": [
       "<div>\n",
       "<style scoped>\n",
       "    .dataframe tbody tr th:only-of-type {\n",
       "        vertical-align: middle;\n",
       "    }\n",
       "\n",
       "    .dataframe tbody tr th {\n",
       "        vertical-align: top;\n",
       "    }\n",
       "\n",
       "    .dataframe thead th {\n",
       "        text-align: right;\n",
       "    }\n",
       "</style>\n",
       "<table border=\"1\" class=\"dataframe\">\n",
       "  <thead>\n",
       "    <tr style=\"text-align: right;\">\n",
       "      <th></th>\n",
       "      <th>Annual_Rainfall</th>\n",
       "    </tr>\n",
       "    <tr>\n",
       "      <th>State</th>\n",
       "      <th></th>\n",
       "    </tr>\n",
       "  </thead>\n",
       "  <tbody>\n",
       "    <tr>\n",
       "      <th>Andhra Pradesh</th>\n",
       "      <td>916.382227</td>\n",
       "    </tr>\n",
       "    <tr>\n",
       "      <th>Arunachal Pradesh</th>\n",
       "      <td>2609.750000</td>\n",
       "    </tr>\n",
       "    <tr>\n",
       "      <th>Assam</th>\n",
       "      <td>2095.066161</td>\n",
       "    </tr>\n",
       "    <tr>\n",
       "      <th>Bihar</th>\n",
       "      <td>1163.213728</td>\n",
       "    </tr>\n",
       "    <tr>\n",
       "      <th>Chhattisgarh</th>\n",
       "      <td>1267.046120</td>\n",
       "    </tr>\n",
       "    <tr>\n",
       "      <th>Delhi</th>\n",
       "      <td>632.903247</td>\n",
       "    </tr>\n",
       "    <tr>\n",
       "      <th>Goa</th>\n",
       "      <td>3352.626275</td>\n",
       "    </tr>\n",
       "    <tr>\n",
       "      <th>Gujarat</th>\n",
       "      <td>784.797919</td>\n",
       "    </tr>\n",
       "    <tr>\n",
       "      <th>Haryana</th>\n",
       "      <td>466.913074</td>\n",
       "    </tr>\n",
       "    <tr>\n",
       "      <th>Himachal Pradesh</th>\n",
       "      <td>1147.486201</td>\n",
       "    </tr>\n",
       "    <tr>\n",
       "      <th>Jammu and Kashmir</th>\n",
       "      <td>1191.772108</td>\n",
       "    </tr>\n",
       "    <tr>\n",
       "      <th>Jharkhand</th>\n",
       "      <td>1183.172222</td>\n",
       "    </tr>\n",
       "    <tr>\n",
       "      <th>Karnataka</th>\n",
       "      <td>1181.838500</td>\n",
       "    </tr>\n",
       "    <tr>\n",
       "      <th>Kerala</th>\n",
       "      <td>2877.605431</td>\n",
       "    </tr>\n",
       "    <tr>\n",
       "      <th>Madhya Pradesh</th>\n",
       "      <td>1003.348284</td>\n",
       "    </tr>\n",
       "    <tr>\n",
       "      <th>Maharashtra</th>\n",
       "      <td>1176.195779</td>\n",
       "    </tr>\n",
       "    <tr>\n",
       "      <th>Manipur</th>\n",
       "      <td>1546.946085</td>\n",
       "    </tr>\n",
       "    <tr>\n",
       "      <th>Meghalaya</th>\n",
       "      <td>4043.080340</td>\n",
       "    </tr>\n",
       "    <tr>\n",
       "      <th>Mizoram</th>\n",
       "      <td>2435.757834</td>\n",
       "    </tr>\n",
       "    <tr>\n",
       "      <th>Nagaland</th>\n",
       "      <td>1545.550732</td>\n",
       "    </tr>\n",
       "    <tr>\n",
       "      <th>Odisha</th>\n",
       "      <td>1445.279474</td>\n",
       "    </tr>\n",
       "    <tr>\n",
       "      <th>Puducherry</th>\n",
       "      <td>1432.710448</td>\n",
       "    </tr>\n",
       "    <tr>\n",
       "      <th>Punjab</th>\n",
       "      <td>508.961713</td>\n",
       "    </tr>\n",
       "    <tr>\n",
       "      <th>Sikkim</th>\n",
       "      <td>2570.335298</td>\n",
       "    </tr>\n",
       "    <tr>\n",
       "      <th>Tamil Nadu</th>\n",
       "      <td>931.160827</td>\n",
       "    </tr>\n",
       "    <tr>\n",
       "      <th>Telangana</th>\n",
       "      <td>996.245592</td>\n",
       "    </tr>\n",
       "    <tr>\n",
       "      <th>Tripura</th>\n",
       "      <td>2302.765966</td>\n",
       "    </tr>\n",
       "    <tr>\n",
       "      <th>Uttar Pradesh</th>\n",
       "      <td>758.273455</td>\n",
       "    </tr>\n",
       "    <tr>\n",
       "      <th>Uttarakhand</th>\n",
       "      <td>1422.902185</td>\n",
       "    </tr>\n",
       "    <tr>\n",
       "      <th>West Bengal</th>\n",
       "      <td>1721.623126</td>\n",
       "    </tr>\n",
       "  </tbody>\n",
       "</table>\n",
       "</div>"
      ],
      "text/plain": [
       "                   Annual_Rainfall\n",
       "State                             \n",
       "Andhra Pradesh          916.382227\n",
       "Arunachal Pradesh      2609.750000\n",
       "Assam                  2095.066161\n",
       "Bihar                  1163.213728\n",
       "Chhattisgarh           1267.046120\n",
       "Delhi                   632.903247\n",
       "Goa                    3352.626275\n",
       "Gujarat                 784.797919\n",
       "Haryana                 466.913074\n",
       "Himachal Pradesh       1147.486201\n",
       "Jammu and Kashmir      1191.772108\n",
       "Jharkhand              1183.172222\n",
       "Karnataka              1181.838500\n",
       "Kerala                 2877.605431\n",
       "Madhya Pradesh         1003.348284\n",
       "Maharashtra            1176.195779\n",
       "Manipur                1546.946085\n",
       "Meghalaya              4043.080340\n",
       "Mizoram                2435.757834\n",
       "Nagaland               1545.550732\n",
       "Odisha                 1445.279474\n",
       "Puducherry             1432.710448\n",
       "Punjab                  508.961713\n",
       "Sikkim                 2570.335298\n",
       "Tamil Nadu              931.160827\n",
       "Telangana               996.245592\n",
       "Tripura                2302.765966\n",
       "Uttar Pradesh           758.273455\n",
       "Uttarakhand            1422.902185\n",
       "West Bengal            1721.623126"
      ]
     },
     "execution_count": 6,
     "metadata": {},
     "output_type": "execute_result"
    }
   ],
   "source": [
    "df[['Annual_Rainfall']].groupby(by=df['State']).mean()"
   ]
  },
  {
   "cell_type": "code",
   "execution_count": 7,
   "metadata": {},
   "outputs": [
    {
     "data": {
      "text/plain": [
       "Crop\n",
       "Rice                     1197\n",
       "Maize                     975\n",
       "Moong(Green Gram)         740\n",
       "Urad                      733\n",
       "Groundnut                 725\n",
       "Sesamum                   685\n",
       "Potato                    628\n",
       "Sugarcane                 605\n",
       "Wheat                     545\n",
       "Rapeseed &Mustard         528\n",
       "Bajra                     524\n",
       "Jowar                     513\n",
       "Arhar/Tur                 508\n",
       "Ragi                      498\n",
       "Gram                      490\n",
       "Small millets             485\n",
       "Cotton(lint)              476\n",
       "Onion                     454\n",
       "Sunflower                 441\n",
       "Dry chillies              419\n",
       "Other Kharif pulses       382\n",
       "Horse-gram                371\n",
       "Peas & beans (Pulses)     369\n",
       "Tobacco                   364\n",
       "Other  Rabi pulses        355\n",
       "Soyabean                  349\n",
       "Turmeric                  337\n",
       "Masoor                    324\n",
       "Ginger                    323\n",
       "Linseed                   308\n",
       "Castor seed               300\n",
       "Barley                    297\n",
       "Sweet potato              273\n",
       "Garlic                    250\n",
       "Banana                    245\n",
       "Mesta                     210\n",
       "Tapioca                   201\n",
       "Coriander                 199\n",
       "Niger seed                192\n",
       "Jute                      181\n",
       "Coconut                   172\n",
       "Safflower                 169\n",
       "Arecanut                  162\n",
       "Sannhamp                  160\n",
       "Other Cereals             146\n",
       "Cowpea(Lobia)             134\n",
       "Cashewnut                 134\n",
       "Black pepper              126\n",
       "other oilseeds            126\n",
       "Moth                      110\n",
       "Khesari                    75\n",
       "Cardamom                   74\n",
       "Guar seed                  63\n",
       "Oilseeds total             29\n",
       "Other Summer Pulses        10\n",
       "Name: count, dtype: int64"
      ]
     },
     "execution_count": 7,
     "metadata": {},
     "output_type": "execute_result"
    }
   ],
   "source": [
    "df['Crop'].value_counts()"
   ]
  },
  {
   "cell_type": "code",
   "execution_count": 8,
   "metadata": {},
   "outputs": [
    {
     "data": {
      "text/plain": [
       "array(['Assam', 'Karnataka', 'Kerala', 'Meghalaya', 'West Bengal',\n",
       "       'Puducherry', 'Goa', 'Andhra Pradesh', 'Tamil Nadu', 'Odisha',\n",
       "       'Bihar', 'Gujarat', 'Madhya Pradesh', 'Maharashtra', 'Mizoram',\n",
       "       'Punjab', 'Uttar Pradesh', 'Haryana', 'Himachal Pradesh',\n",
       "       'Tripura', 'Nagaland', 'Chhattisgarh', 'Uttarakhand', 'Jharkhand',\n",
       "       'Delhi', 'Manipur', 'Jammu and Kashmir', 'Telangana',\n",
       "       'Arunachal Pradesh', 'Sikkim'], dtype=object)"
      ]
     },
     "execution_count": 8,
     "metadata": {},
     "output_type": "execute_result"
    }
   ],
   "source": [
    "df['State'].unique()"
   ]
  },
  {
   "cell_type": "code",
   "execution_count": 9,
   "metadata": {},
   "outputs": [],
   "source": [
    "# five=['Rice','Wheat','Potato','Sugarcane','Onion']\n",
    "df0=df[df['Crop']=='Rice']\n",
    "df1=df[df['Crop']=='Wheat']\n",
    "df2=df[df['Crop']=='Potato']\n",
    "df3=df[df['Crop']=='Onion']"
   ]
  },
  {
   "cell_type": "code",
   "execution_count": 10,
   "metadata": {},
   "outputs": [],
   "source": [
    "df01=pd.concat([df0,df1])\n",
    "df23=pd.concat([df2,df3])"
   ]
  },
  {
   "cell_type": "code",
   "execution_count": 11,
   "metadata": {},
   "outputs": [],
   "source": [
    "df=pd.concat([df01,df23])"
   ]
  },
  {
   "cell_type": "code",
   "execution_count": 12,
   "metadata": {},
   "outputs": [
    {
     "data": {
      "text/html": [
       "<div>\n",
       "<style scoped>\n",
       "    .dataframe tbody tr th:only-of-type {\n",
       "        vertical-align: middle;\n",
       "    }\n",
       "\n",
       "    .dataframe tbody tr th {\n",
       "        vertical-align: top;\n",
       "    }\n",
       "\n",
       "    .dataframe thead th {\n",
       "        text-align: right;\n",
       "    }\n",
       "</style>\n",
       "<table border=\"1\" class=\"dataframe\">\n",
       "  <thead>\n",
       "    <tr style=\"text-align: right;\">\n",
       "      <th></th>\n",
       "      <th>Crop</th>\n",
       "      <th>Crop_Year</th>\n",
       "      <th>Season</th>\n",
       "      <th>State</th>\n",
       "      <th>Area</th>\n",
       "      <th>Production</th>\n",
       "      <th>Annual_Rainfall</th>\n",
       "      <th>Fertilizer</th>\n",
       "      <th>Pesticide</th>\n",
       "      <th>Yield</th>\n",
       "    </tr>\n",
       "  </thead>\n",
       "  <tbody>\n",
       "    <tr>\n",
       "      <th>16</th>\n",
       "      <td>Rice</td>\n",
       "      <td>1997</td>\n",
       "      <td>Autumn</td>\n",
       "      <td>Assam</td>\n",
       "      <td>607358.0</td>\n",
       "      <td>398311</td>\n",
       "      <td>2051.4</td>\n",
       "      <td>5.780226e+07</td>\n",
       "      <td>188280.98</td>\n",
       "      <td>0.780870</td>\n",
       "    </tr>\n",
       "    <tr>\n",
       "      <th>17</th>\n",
       "      <td>Rice</td>\n",
       "      <td>1997</td>\n",
       "      <td>Summer</td>\n",
       "      <td>Assam</td>\n",
       "      <td>174974.0</td>\n",
       "      <td>209623</td>\n",
       "      <td>2051.4</td>\n",
       "      <td>1.665228e+07</td>\n",
       "      <td>54241.94</td>\n",
       "      <td>1.060435</td>\n",
       "    </tr>\n",
       "    <tr>\n",
       "      <th>18</th>\n",
       "      <td>Rice</td>\n",
       "      <td>1997</td>\n",
       "      <td>Winter</td>\n",
       "      <td>Assam</td>\n",
       "      <td>1743321.0</td>\n",
       "      <td>1647296</td>\n",
       "      <td>2051.4</td>\n",
       "      <td>1.659119e+08</td>\n",
       "      <td>540429.51</td>\n",
       "      <td>0.941304</td>\n",
       "    </tr>\n",
       "    <tr>\n",
       "      <th>51</th>\n",
       "      <td>Rice</td>\n",
       "      <td>1997</td>\n",
       "      <td>Kharif</td>\n",
       "      <td>Karnataka</td>\n",
       "      <td>1031530.0</td>\n",
       "      <td>2340493</td>\n",
       "      <td>1266.7</td>\n",
       "      <td>9.817071e+07</td>\n",
       "      <td>319774.30</td>\n",
       "      <td>2.233500</td>\n",
       "    </tr>\n",
       "    <tr>\n",
       "      <th>52</th>\n",
       "      <td>Rice</td>\n",
       "      <td>1997</td>\n",
       "      <td>Rabi</td>\n",
       "      <td>Karnataka</td>\n",
       "      <td>53889.0</td>\n",
       "      <td>109350</td>\n",
       "      <td>1266.7</td>\n",
       "      <td>5.128616e+06</td>\n",
       "      <td>16705.59</td>\n",
       "      <td>2.073846</td>\n",
       "    </tr>\n",
       "  </tbody>\n",
       "</table>\n",
       "</div>"
      ],
      "text/plain": [
       "    Crop  Crop_Year       Season      State       Area  Production  \\\n",
       "16  Rice       1997  Autumn           Assam   607358.0      398311   \n",
       "17  Rice       1997  Summer           Assam   174974.0      209623   \n",
       "18  Rice       1997  Winter           Assam  1743321.0     1647296   \n",
       "51  Rice       1997  Kharif       Karnataka  1031530.0     2340493   \n",
       "52  Rice       1997  Rabi         Karnataka    53889.0      109350   \n",
       "\n",
       "    Annual_Rainfall    Fertilizer  Pesticide     Yield  \n",
       "16           2051.4  5.780226e+07  188280.98  0.780870  \n",
       "17           2051.4  1.665228e+07   54241.94  1.060435  \n",
       "18           2051.4  1.659119e+08  540429.51  0.941304  \n",
       "51           1266.7  9.817071e+07  319774.30  2.233500  \n",
       "52           1266.7  5.128616e+06   16705.59  2.073846  "
      ]
     },
     "execution_count": 12,
     "metadata": {},
     "output_type": "execute_result"
    }
   ],
   "source": [
    "df.head()"
   ]
  },
  {
   "cell_type": "code",
   "execution_count": 13,
   "metadata": {},
   "outputs": [
    {
     "data": {
      "text/plain": [
       "array(['Rice', 'Wheat', 'Potato', 'Onion'], dtype=object)"
      ]
     },
     "execution_count": 13,
     "metadata": {},
     "output_type": "execute_result"
    }
   ],
   "source": [
    "df['Crop'].unique()"
   ]
  },
  {
   "cell_type": "code",
   "execution_count": 16,
   "metadata": {},
   "outputs": [],
   "source": [
    "# States=['UP(Lucknow)','Karnataka(Bengaluru)','Madhya Pradesh(Indore)','Bihar(Patna)']\n",
    "df_new=df[df['State']=='Bihar']"
   ]
  },
  {
   "cell_type": "code",
   "execution_count": 17,
   "metadata": {},
   "outputs": [
    {
     "data": {
      "text/html": [
       "<div>\n",
       "<style scoped>\n",
       "    .dataframe tbody tr th:only-of-type {\n",
       "        vertical-align: middle;\n",
       "    }\n",
       "\n",
       "    .dataframe tbody tr th {\n",
       "        vertical-align: top;\n",
       "    }\n",
       "\n",
       "    .dataframe thead th {\n",
       "        text-align: right;\n",
       "    }\n",
       "</style>\n",
       "<table border=\"1\" class=\"dataframe\">\n",
       "  <thead>\n",
       "    <tr style=\"text-align: right;\">\n",
       "      <th></th>\n",
       "      <th>Crop</th>\n",
       "      <th>Crop_Year</th>\n",
       "      <th>Season</th>\n",
       "      <th>State</th>\n",
       "      <th>Area</th>\n",
       "      <th>Production</th>\n",
       "      <th>Annual_Rainfall</th>\n",
       "      <th>Fertilizer</th>\n",
       "      <th>Pesticide</th>\n",
       "      <th>Yield</th>\n",
       "    </tr>\n",
       "  </thead>\n",
       "  <tbody>\n",
       "    <tr>\n",
       "      <th>6195</th>\n",
       "      <td>Rice</td>\n",
       "      <td>1997</td>\n",
       "      <td>Autumn</td>\n",
       "      <td>Bihar</td>\n",
       "      <td>749671.0</td>\n",
       "      <td>892725</td>\n",
       "      <td>1303.7</td>\n",
       "      <td>7.134619e+07</td>\n",
       "      <td>232398.01</td>\n",
       "      <td>1.102245</td>\n",
       "    </tr>\n",
       "    <tr>\n",
       "      <th>6196</th>\n",
       "      <td>Rice</td>\n",
       "      <td>1997</td>\n",
       "      <td>Summer</td>\n",
       "      <td>Bihar</td>\n",
       "      <td>124429.0</td>\n",
       "      <td>236446</td>\n",
       "      <td>1303.7</td>\n",
       "      <td>1.184191e+07</td>\n",
       "      <td>38572.99</td>\n",
       "      <td>1.683265</td>\n",
       "    </tr>\n",
       "    <tr>\n",
       "      <th>6197</th>\n",
       "      <td>Rice</td>\n",
       "      <td>1997</td>\n",
       "      <td>Winter</td>\n",
       "      <td>Bihar</td>\n",
       "      <td>4238204.0</td>\n",
       "      <td>6004120</td>\n",
       "      <td>1303.7</td>\n",
       "      <td>4.033499e+08</td>\n",
       "      <td>1313843.24</td>\n",
       "      <td>1.354364</td>\n",
       "    </tr>\n",
       "    <tr>\n",
       "      <th>6394</th>\n",
       "      <td>Rice</td>\n",
       "      <td>1998</td>\n",
       "      <td>Summer</td>\n",
       "      <td>Bihar</td>\n",
       "      <td>132836.0</td>\n",
       "      <td>270992</td>\n",
       "      <td>1332.5</td>\n",
       "      <td>1.312420e+07</td>\n",
       "      <td>38522.44</td>\n",
       "      <td>1.765778</td>\n",
       "    </tr>\n",
       "    <tr>\n",
       "      <th>6395</th>\n",
       "      <td>Rice</td>\n",
       "      <td>1998</td>\n",
       "      <td>Winter</td>\n",
       "      <td>Bihar</td>\n",
       "      <td>4234443.0</td>\n",
       "      <td>5722449</td>\n",
       "      <td>1332.5</td>\n",
       "      <td>4.183630e+08</td>\n",
       "      <td>1227988.47</td>\n",
       "      <td>1.242909</td>\n",
       "    </tr>\n",
       "  </tbody>\n",
       "</table>\n",
       "</div>"
      ],
      "text/plain": [
       "      Crop  Crop_Year       Season  State       Area  Production  \\\n",
       "6195  Rice       1997  Autumn       Bihar   749671.0      892725   \n",
       "6196  Rice       1997  Summer       Bihar   124429.0      236446   \n",
       "6197  Rice       1997  Winter       Bihar  4238204.0     6004120   \n",
       "6394  Rice       1998  Summer       Bihar   132836.0      270992   \n",
       "6395  Rice       1998  Winter       Bihar  4234443.0     5722449   \n",
       "\n",
       "      Annual_Rainfall    Fertilizer   Pesticide     Yield  \n",
       "6195           1303.7  7.134619e+07   232398.01  1.102245  \n",
       "6196           1303.7  1.184191e+07    38572.99  1.683265  \n",
       "6197           1303.7  4.033499e+08  1313843.24  1.354364  \n",
       "6394           1332.5  1.312420e+07    38522.44  1.765778  \n",
       "6395           1332.5  4.183630e+08  1227988.47  1.242909  "
      ]
     },
     "execution_count": 17,
     "metadata": {},
     "output_type": "execute_result"
    }
   ],
   "source": [
    "df_new.head()"
   ]
  },
  {
   "cell_type": "code",
   "execution_count": 18,
   "metadata": {},
   "outputs": [
    {
     "data": {
      "text/plain": [
       "array(['Rice', 'Wheat', 'Potato', 'Onion'], dtype=object)"
      ]
     },
     "execution_count": 18,
     "metadata": {},
     "output_type": "execute_result"
    }
   ],
   "source": [
    "df_new['Crop'].unique()"
   ]
  },
  {
   "cell_type": "code",
   "execution_count": 20,
   "metadata": {},
   "outputs": [
    {
     "data": {
      "text/plain": [
       "(2824, 10)"
      ]
     },
     "execution_count": 20,
     "metadata": {},
     "output_type": "execute_result"
    }
   ],
   "source": [
    "df.shape"
   ]
  },
  {
   "cell_type": "code",
   "execution_count": 25,
   "metadata": {},
   "outputs": [],
   "source": [
    "dfa=df[df['State']=='Uttar Pradesh']\n",
    "dfb=df[df['State']=='Karnataka']\n",
    "dfc=df[df['State']=='Madhya Pradesh']\n",
    "dfd=df[df['State']=='Bihar']\n",
    "dfab=pd.concat([dfa,dfb])\n",
    "dfcd=pd.concat([dfc,dfd])\n",
    "df=pd.concat([dfab,dfcd])"
   ]
  },
  {
   "cell_type": "code",
   "execution_count": 26,
   "metadata": {},
   "outputs": [
    {
     "data": {
      "text/plain": [
       "(535, 10)"
      ]
     },
     "execution_count": 26,
     "metadata": {},
     "output_type": "execute_result"
    }
   ],
   "source": [
    "df.shape"
   ]
  },
  {
   "cell_type": "code",
   "execution_count": 28,
   "metadata": {},
   "outputs": [
    {
     "data": {
      "text/plain": [
       "array(['Uttar Pradesh', 'Karnataka', 'Madhya Pradesh', 'Bihar'],\n",
       "      dtype=object)"
      ]
     },
     "execution_count": 28,
     "metadata": {},
     "output_type": "execute_result"
    }
   ],
   "source": [
    "df['State'].unique()"
   ]
  },
  {
   "cell_type": "code",
   "execution_count": 29,
   "metadata": {},
   "outputs": [
    {
     "data": {
      "text/plain": [
       "array(['Rice', 'Wheat', 'Potato', 'Onion'], dtype=object)"
      ]
     },
     "execution_count": 29,
     "metadata": {},
     "output_type": "execute_result"
    }
   ],
   "source": [
    "df['Crop'].unique()"
   ]
  },
  {
   "cell_type": "code",
   "execution_count": 51,
   "metadata": {},
   "outputs": [],
   "source": [
    "df.to_csv(\"yiled.csv\")"
   ]
  },
  {
   "cell_type": "code",
   "execution_count": 30,
   "metadata": {},
   "outputs": [
    {
     "data": {
      "text/html": [
       "<div>\n",
       "<style scoped>\n",
       "    .dataframe tbody tr th:only-of-type {\n",
       "        vertical-align: middle;\n",
       "    }\n",
       "\n",
       "    .dataframe tbody tr th {\n",
       "        vertical-align: top;\n",
       "    }\n",
       "\n",
       "    .dataframe thead th {\n",
       "        text-align: right;\n",
       "    }\n",
       "</style>\n",
       "<table border=\"1\" class=\"dataframe\">\n",
       "  <thead>\n",
       "    <tr style=\"text-align: right;\">\n",
       "      <th></th>\n",
       "      <th></th>\n",
       "      <th>Annual_Rainfall</th>\n",
       "    </tr>\n",
       "    <tr>\n",
       "      <th>Crop_Year</th>\n",
       "      <th>State</th>\n",
       "      <th></th>\n",
       "    </tr>\n",
       "  </thead>\n",
       "  <tbody>\n",
       "    <tr>\n",
       "      <th rowspan=\"4\" valign=\"top\">1997</th>\n",
       "      <th>Bihar</th>\n",
       "      <td>1303.7</td>\n",
       "    </tr>\n",
       "    <tr>\n",
       "      <th>Karnataka</th>\n",
       "      <td>1266.7</td>\n",
       "    </tr>\n",
       "    <tr>\n",
       "      <th>Madhya Pradesh</th>\n",
       "      <td>1189.1</td>\n",
       "    </tr>\n",
       "    <tr>\n",
       "      <th>Uttar Pradesh</th>\n",
       "      <td>473.9</td>\n",
       "    </tr>\n",
       "    <tr>\n",
       "      <th>1998</th>\n",
       "      <th>Bihar</th>\n",
       "      <td>1332.5</td>\n",
       "    </tr>\n",
       "    <tr>\n",
       "      <th>...</th>\n",
       "      <th>...</th>\n",
       "      <td>...</td>\n",
       "    </tr>\n",
       "    <tr>\n",
       "      <th>2018</th>\n",
       "      <th>Uttar Pradesh</th>\n",
       "      <td>792.8</td>\n",
       "    </tr>\n",
       "    <tr>\n",
       "      <th rowspan=\"4\" valign=\"top\">2019</th>\n",
       "      <th>Bihar</th>\n",
       "      <td>1194.7</td>\n",
       "    </tr>\n",
       "    <tr>\n",
       "      <th>Karnataka</th>\n",
       "      <td>1422.3</td>\n",
       "    </tr>\n",
       "    <tr>\n",
       "      <th>Madhya Pradesh</th>\n",
       "      <td>1446.7</td>\n",
       "    </tr>\n",
       "    <tr>\n",
       "      <th>Uttar Pradesh</th>\n",
       "      <td>814.5</td>\n",
       "    </tr>\n",
       "  </tbody>\n",
       "</table>\n",
       "<p>92 rows × 1 columns</p>\n",
       "</div>"
      ],
      "text/plain": [
       "                          Annual_Rainfall\n",
       "Crop_Year State                          \n",
       "1997      Bihar                    1303.7\n",
       "          Karnataka                1266.7\n",
       "          Madhya Pradesh           1189.1\n",
       "          Uttar Pradesh             473.9\n",
       "1998      Bihar                    1332.5\n",
       "...                                   ...\n",
       "2018      Uttar Pradesh             792.8\n",
       "2019      Bihar                    1194.7\n",
       "          Karnataka                1422.3\n",
       "          Madhya Pradesh           1446.7\n",
       "          Uttar Pradesh             814.5\n",
       "\n",
       "[92 rows x 1 columns]"
      ]
     },
     "execution_count": 30,
     "metadata": {},
     "output_type": "execute_result"
    }
   ],
   "source": [
    "rain_per_state=df.groupby(['Crop_Year','State'])[['Annual_Rainfall']].mean()\n",
    "rain_per_state"
   ]
  },
  {
   "cell_type": "code",
   "execution_count": 31,
   "metadata": {},
   "outputs": [
    {
     "data": {
      "text/html": [
       "<div>\n",
       "<style scoped>\n",
       "    .dataframe tbody tr th:only-of-type {\n",
       "        vertical-align: middle;\n",
       "    }\n",
       "\n",
       "    .dataframe tbody tr th {\n",
       "        vertical-align: top;\n",
       "    }\n",
       "\n",
       "    .dataframe thead th {\n",
       "        text-align: right;\n",
       "    }\n",
       "</style>\n",
       "<table border=\"1\" class=\"dataframe\">\n",
       "  <thead>\n",
       "    <tr style=\"text-align: right;\">\n",
       "      <th></th>\n",
       "      <th></th>\n",
       "      <th></th>\n",
       "      <th>Yield</th>\n",
       "      <th>Fertilizer</th>\n",
       "      <th>Pesticide</th>\n",
       "    </tr>\n",
       "    <tr>\n",
       "      <th>Crop_Year</th>\n",
       "      <th>State</th>\n",
       "      <th>Crop</th>\n",
       "      <th></th>\n",
       "      <th></th>\n",
       "      <th></th>\n",
       "    </tr>\n",
       "  </thead>\n",
       "  <tbody>\n",
       "    <tr>\n",
       "      <th rowspan=\"5\" valign=\"top\">1997</th>\n",
       "      <th rowspan=\"4\" valign=\"top\">Bihar</th>\n",
       "      <th>Onion</th>\n",
       "      <td>7.817273</td>\n",
       "      <td>1.718865e+06</td>\n",
       "      <td>5598.91</td>\n",
       "    </tr>\n",
       "    <tr>\n",
       "      <th>Potato</th>\n",
       "      <td>8.929636</td>\n",
       "      <td>1.599560e+07</td>\n",
       "      <td>52102.94</td>\n",
       "    </tr>\n",
       "    <tr>\n",
       "      <th>Rice</th>\n",
       "      <td>4.139874</td>\n",
       "      <td>4.865380e+08</td>\n",
       "      <td>1584814.24</td>\n",
       "    </tr>\n",
       "    <tr>\n",
       "      <th>Wheat</th>\n",
       "      <td>1.811091</td>\n",
       "      <td>1.967744e+08</td>\n",
       "      <td>640959.10</td>\n",
       "    </tr>\n",
       "    <tr>\n",
       "      <th>Karnataka</th>\n",
       "      <th>Rice</th>\n",
       "      <td>7.136791</td>\n",
       "      <td>1.288091e+08</td>\n",
       "      <td>419573.53</td>\n",
       "    </tr>\n",
       "  </tbody>\n",
       "</table>\n",
       "</div>"
      ],
      "text/plain": [
       "                               Yield    Fertilizer   Pesticide\n",
       "Crop_Year State     Crop                                      \n",
       "1997      Bihar     Onion   7.817273  1.718865e+06     5598.91\n",
       "                    Potato  8.929636  1.599560e+07    52102.94\n",
       "                    Rice    4.139874  4.865380e+08  1584814.24\n",
       "                    Wheat   1.811091  1.967744e+08   640959.10\n",
       "          Karnataka Rice    7.136791  1.288091e+08   419573.53"
      ]
     },
     "execution_count": 31,
     "metadata": {},
     "output_type": "execute_result"
    }
   ],
   "source": [
    "crop_stats=df.groupby(['Crop_Year','State','Crop'])[['Yield','Fertilizer','Pesticide']].sum()\n",
    "crop_stats.head()"
   ]
  },
  {
   "cell_type": "markdown",
   "metadata": {},
   "source": [
    "### State-wise prices"
   ]
  },
  {
   "cell_type": "code",
   "execution_count": 36,
   "metadata": {},
   "outputs": [
    {
     "data": {
      "text/plain": [
       "(49798, 11)"
      ]
     },
     "execution_count": 36,
     "metadata": {},
     "output_type": "execute_result"
    }
   ],
   "source": [
    "kar_rice=pd.read_csv('Datasets/States/KAR_Rice.csv')\n",
    "kar_wheat=pd.read_csv('Datasets/States/KAR_Wheat.csv')\n",
    "kar_pot=pd.read_csv('Datasets/States/KAR_Potato.csv')\n",
    "kar_onion=pd.read_csv('Datasets/States/KAR_Onion.csv')\n",
    "kar=pd.concat([kar_rice,kar_wheat,kar_onion,kar_pot])\n",
    "kar.shape"
   ]
  },
  {
   "cell_type": "code",
   "execution_count": 37,
   "metadata": {},
   "outputs": [
    {
     "data": {
      "text/plain": [
       "(21671, 11)"
      ]
     },
     "execution_count": 37,
     "metadata": {},
     "output_type": "execute_result"
    }
   ],
   "source": [
    "up_rice=pd.read_csv('Datasets/States/UP_Rice.csv')\n",
    "up_wheat=pd.read_csv('Datasets/States/UP_Wheat.csv')\n",
    "up_pot=pd.read_csv('Datasets/States/UP_Potato.csv')\n",
    "up_onion=pd.read_csv('Datasets/States/UP_Onion.csv')\n",
    "up=pd.concat([up_rice,up_wheat,up_onion,up_pot])\n",
    "up.shape"
   ]
  },
  {
   "cell_type": "code",
   "execution_count": 39,
   "metadata": {},
   "outputs": [
    {
     "data": {
      "text/plain": [
       "(38342, 11)"
      ]
     },
     "execution_count": 39,
     "metadata": {},
     "output_type": "execute_result"
    }
   ],
   "source": [
    "mp_wheat=pd.read_csv('Datasets/States/MP_Wheat.csv')\n",
    "mp_pot=pd.read_csv('Datasets/States/MP_Potato.csv')\n",
    "mp_onion=pd.read_csv('Datasets/States/MP_Onion.csv')\n",
    "mp=pd.concat([mp_wheat,mp_onion,mp_pot])\n",
    "mp.shape"
   ]
  },
  {
   "cell_type": "code",
   "execution_count": 40,
   "metadata": {},
   "outputs": [
    {
     "data": {
      "text/plain": [
       "(15110, 11)"
      ]
     },
     "execution_count": 40,
     "metadata": {},
     "output_type": "execute_result"
    }
   ],
   "source": [
    "bi_rice=pd.read_csv('Datasets/States/BI_Rice.csv')\n",
    "bi_wheat=pd.read_csv('Datasets/States/BI_Wheat.csv')\n",
    "bi_pot=pd.read_csv('Datasets/States/BI_Potato.csv')\n",
    "bi_onion=pd.read_csv('Datasets/States/BI_Onion.csv')\n",
    "bi=pd.concat([bi_rice,bi_wheat,bi_onion,bi_pot])\n",
    "bi.shape"
   ]
  },
  {
   "cell_type": "code",
   "execution_count": 41,
   "metadata": {},
   "outputs": [],
   "source": [
    "prices=pd.concat([up,kar,mp,bi])"
   ]
  },
  {
   "cell_type": "code",
   "execution_count": 42,
   "metadata": {},
   "outputs": [
    {
     "data": {
      "text/plain": [
       "(124921, 11)"
      ]
     },
     "execution_count": 42,
     "metadata": {},
     "output_type": "execute_result"
    }
   ],
   "source": [
    "prices.shape"
   ]
  },
  {
   "cell_type": "code",
   "execution_count": 46,
   "metadata": {},
   "outputs": [
    {
     "name": "stderr",
     "output_type": "stream",
     "text": [
      "C:\\Users\\ADMIN\\AppData\\Local\\Temp\\ipykernel_15804\\2517089468.py:1: FutureWarning: DataFrame.replace without 'value' and with non-dict-like 'to_replace' is deprecated and will raise in a future version. Explicitly specify the new values instead.\n",
      "  prices.replace([0,np.nan],inplace=True)\n"
     ]
    }
   ],
   "source": [
    "prices.replace([0,np.nan],inplace=True)"
   ]
  },
  {
   "cell_type": "code",
   "execution_count": 47,
   "metadata": {},
   "outputs": [
    {
     "data": {
      "text/plain": [
       "State             0\n",
       "District          0\n",
       "Market            0\n",
       "Commodity         0\n",
       "Variety           0\n",
       "Grade             0\n",
       "Arrival_Date      0\n",
       "Min_Price         0\n",
       "Max_Price         0\n",
       "Modal_Price       0\n",
       "Commodity_Code    0\n",
       "dtype: int64"
      ]
     },
     "execution_count": 47,
     "metadata": {},
     "output_type": "execute_result"
    }
   ],
   "source": [
    "prices.isnull().sum()"
   ]
  },
  {
   "cell_type": "code",
   "execution_count": 48,
   "metadata": {},
   "outputs": [
    {
     "data": {
      "text/plain": [
       "array(['Uttar Pradesh', 'Karnataka', 'Madhya Pradesh', 'Bihar'],\n",
       "      dtype=object)"
      ]
     },
     "execution_count": 48,
     "metadata": {},
     "output_type": "execute_result"
    }
   ],
   "source": [
    "prices['State'].unique()"
   ]
  },
  {
   "cell_type": "code",
   "execution_count": 49,
   "metadata": {},
   "outputs": [
    {
     "data": {
      "text/plain": [
       "array(['Rice', 'Wheat', 'Onion', 'Potato'], dtype=object)"
      ]
     },
     "execution_count": 49,
     "metadata": {},
     "output_type": "execute_result"
    }
   ],
   "source": [
    "prices['Commodity'].unique()"
   ]
  },
  {
   "cell_type": "code",
   "execution_count": 50,
   "metadata": {},
   "outputs": [
    {
     "data": {
      "text/plain": [
       "array(['FAQ', 'Large', 'Local', 'Medium', 'Small'], dtype=object)"
      ]
     },
     "execution_count": 50,
     "metadata": {},
     "output_type": "execute_result"
    }
   ],
   "source": [
    "prices['Grade'].unique()"
   ]
  },
  {
   "cell_type": "code",
   "execution_count": 52,
   "metadata": {},
   "outputs": [],
   "source": [
    "prices.to_csv(\"prices.csv\")"
   ]
  },
  {
   "cell_type": "code",
   "execution_count": null,
   "metadata": {},
   "outputs": [],
   "source": []
  }
 ],
 "metadata": {
  "kernelspec": {
   "display_name": "Python 3",
   "language": "python",
   "name": "python3"
  },
  "language_info": {
   "codemirror_mode": {
    "name": "ipython",
    "version": 3
   },
   "file_extension": ".py",
   "mimetype": "text/x-python",
   "name": "python",
   "nbconvert_exporter": "python",
   "pygments_lexer": "ipython3",
   "version": "3.9.0"
  }
 },
 "nbformat": 4,
 "nbformat_minor": 2
}
